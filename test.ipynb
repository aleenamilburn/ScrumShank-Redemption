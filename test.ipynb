{
  "nbformat": 4,
  "nbformat_minor": 0,
  "metadata": {
    "colab": {
      "provenance": [],
      "authorship_tag": "ABX9TyMfOv1s9DeMGj2zx7dI1B6H",
      "include_colab_link": true
    },
    "kernelspec": {
      "name": "python3",
      "display_name": "Python 3"
    },
    "language_info": {
      "name": "python"
    }
  },
  "cells": [
    {
      "cell_type": "markdown",
      "metadata": {
        "id": "view-in-github",
        "colab_type": "text"
      },
      "source": [
        "<a href=\"https://colab.research.google.com/github/aleenamilburn/ScrumShank-Redemption/blob/main/test.ipynb\" target=\"_parent\"><img src=\"https://colab.research.google.com/assets/colab-badge.svg\" alt=\"Open In Colab\"/></a>"
      ]
    },
    {
      "cell_type": "code",
      "execution_count": 2,
      "metadata": {
        "id": "C4q-_uhv8zcU",
        "colab": {
          "base_uri": "https://localhost:8080/"
        },
        "outputId": "e14f13e6-9f5a-433a-ce19-02db0d60db98"
      },
      "outputs": [
        {
          "output_type": "stream",
          "name": "stdout",
          "text": [
            "Accuracy: 0.9998666666666667\n",
            "\n",
            "Classification Report:\n",
            "               precision    recall  f1-score   support\n",
            "\n",
            "           0       0.92      1.00      0.96        11\n",
            "           1       1.00      1.00      1.00      7489\n",
            "\n",
            "    accuracy                           1.00      7500\n",
            "   macro avg       0.96      1.00      0.98      7500\n",
            "weighted avg       1.00      1.00      1.00      7500\n",
            "\n",
            "\n",
            "Feature Importances:\n",
            "Approval Delay: 0.0000\n",
            "Cost Overrun: 0.0000\n",
            "Fulfillment Delay: 0.0000\n",
            "SWAM Compliance Violations: 1.0000\n"
          ]
        }
      ],
      "source": [
        "import pandas as pd\n",
        "from sklearn.model_selection import train_test_split\n",
        "from sklearn.tree import DecisionTreeClassifier\n",
        "from sklearn.metrics import classification_report, accuracy_score\n",
        "from sklearn.preprocessing import LabelEncoder\n",
        "import numpy as np\n",
        "\n",
        "# Load the dataset\n",
        "df = pd.read_csv('/content/MarchData.xlsx - cleaned.csv')\n",
        "\n",
        "# Feature Engineering\n",
        "# 1. Approval Delay: Difference between Requisition Submitted Date and Requisition Approved Date\n",
        "df['Req Submitted'] = pd.to_datetime(df['Requisition.Submitted.Date'])\n",
        "df['Req Approved'] = pd.to_datetime(df['Requisition.Approved.Date'])\n",
        "df['Approval Delay'] = (df['Req Approved'] - df['Req Submitted']).dt.days\n",
        "\n",
        "# 2. Cost Overrun: Line Total Change (assuming 'Line.Total.Change' is already in the dataset)\n",
        "df['Cost Overrun'] = df['Line.Total.Change']\n",
        "\n",
        "# 3. Fulfillment Delay: Difference between Requisition Approved Date and Ordered Date\n",
        "df['Ordered Date'] = pd.to_datetime(df['Ordered.Date'])\n",
        "df['Fulfillment Delay'] = (df['Ordered Date'] - df['Req Approved']).dt.days\n",
        "\n",
        "# 4. SWAM Compliance Violations: Count of SWAM variables that are FALSE (0)\n",
        "swam_columns = ['SWAM.Minority', 'SWAM.Woman', 'SWAM.Small', 'SWAM.Micro.Business']\n",
        "df['SWAM Compliance Violations'] = df[swam_columns].apply(lambda row: sum(row == 0), axis=1)\n",
        "\n",
        "# Define the target variable: Supplier Risk (assuming we have a target column 'Supplier Risk')\n",
        "# If not, you can create a target variable based on some criteria, e.g., if Approval Delay > 10 days, Cost Overrun > 0, etc.\n",
        "# For this example, let's assume 'Supplier Risk' is already in the dataset.\n",
        "# If not, you can create it like this:\n",
        "df['Supplier Risk'] = np.where((df['Approval Delay'] > 10) | (df['Cost Overrun'] > 0) | (df['Fulfillment Delay'] > 5) | (df['SWAM Compliance Violations'] > 0), 1, 0)\n",
        "\n",
        "# Select features and target\n",
        "features = ['Approval Delay', 'Cost Overrun', 'Fulfillment Delay', 'SWAM Compliance Violations']\n",
        "X = df[features]\n",
        "y = df['Supplier Risk']\n",
        "\n",
        "# Encode categorical variables if any (not needed in this case as all features are numerical)\n",
        "# label_encoder = LabelEncoder()\n",
        "# for col in X.select_dtypes(include=['object']).columns:\n",
        "#     X[col] = label_encoder.fit_transform(X[col])\n",
        "\n",
        "# Split the data into training and testing sets\n",
        "X_train, X_test, y_train, y_test = train_test_split(X, y, test_size=0.3, random_state=42)\n",
        "\n",
        "# Initialize the Decision Tree Classifier\n",
        "clf = DecisionTreeClassifier(random_state=42)\n",
        "\n",
        "# Train the model\n",
        "clf.fit(X_train, y_train)\n",
        "\n",
        "# Make predictions\n",
        "y_pred = clf.predict(X_test)\n",
        "\n",
        "# Evaluate the model\n",
        "print(\"Accuracy:\", accuracy_score(y_test, y_pred))\n",
        "print(\"\\nClassification Report:\\n\", classification_report(y_test, y_pred))\n",
        "\n",
        "# Feature Importance\n",
        "print(\"\\nFeature Importances:\")\n",
        "for feature, importance in zip(features, clf.feature_importances_):\n",
        "    print(f\"{feature}: {importance:.4f}\")\n"
      ]
    }
  ]
}